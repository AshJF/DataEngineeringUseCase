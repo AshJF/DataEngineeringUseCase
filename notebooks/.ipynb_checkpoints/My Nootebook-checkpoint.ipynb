{
 "cells": [
  {
   "cell_type": "markdown",
   "id": "359fb941",
   "metadata": {},
   "source": [
    "# DigiB Assignment"
   ]
  },
  {
   "cell_type": "code",
   "execution_count": 1,
   "id": "c26704bd",
   "metadata": {
    "scrolled": true
   },
   "outputs": [
    {
     "data": {
      "text/html": [
       "\n",
       "            <div>\n",
       "                <p><b>SparkSession - in-memory</b></p>\n",
       "                \n",
       "        <div>\n",
       "            <p><b>SparkContext</b></p>\n",
       "\n",
       "            <p><a href=\"http://3c9fb517c72b:4041\">Spark UI</a></p>\n",
       "\n",
       "            <dl>\n",
       "              <dt>Version</dt>\n",
       "                <dd><code>v3.3.0</code></dd>\n",
       "              <dt>Master</dt>\n",
       "                <dd><code>local[*]</code></dd>\n",
       "              <dt>AppName</dt>\n",
       "                <dd><code>PySparkShell</code></dd>\n",
       "            </dl>\n",
       "        </div>\n",
       "        \n",
       "            </div>\n",
       "        "
      ],
      "text/plain": [
       "<pyspark.sql.session.SparkSession at 0x7fbff5a7eca0>"
      ]
     },
     "execution_count": 1,
     "metadata": {},
     "output_type": "execute_result"
    }
   ],
   "source": [
    "spark"
   ]
  },
  {
   "cell_type": "markdown",
   "id": "988bcdd6",
   "metadata": {},
   "source": [
    "## Testing Connection to Kafka Topic"
   ]
  },
  {
   "cell_type": "code",
   "execution_count": 1,
   "id": "8e81acbc",
   "metadata": {},
   "outputs": [
    {
     "name": "stdout",
     "output_type": "stream",
     "text": [
      "Collecting kafka-python\n",
      "  Downloading kafka_python-2.0.2-py2.py3-none-any.whl (246 kB)\n",
      "\u001b[2K     \u001b[90m━━━━━━━━━━━━━━━━━━━━━━━━━━━━━━━━━━━━━━━\u001b[0m \u001b[32m246.5/246.5 KB\u001b[0m \u001b[31m5.4 MB/s\u001b[0m eta \u001b[36m0:00:00\u001b[0ma \u001b[36m0:00:01\u001b[0m\n",
      "\u001b[?25hInstalling collected packages: kafka-python\n",
      "Successfully installed kafka-python-2.0.2\n",
      "\u001b[33mWARNING: Running pip as the 'root' user can result in broken permissions and conflicting behaviour with the system package manager. It is recommended to use a virtual environment instead: https://pip.pypa.io/warnings/venv\u001b[0m\u001b[33m\n",
      "\u001b[0m\u001b[33mWARNING: You are using pip version 22.0.4; however, version 22.3 is available.\n",
      "You should consider upgrading via the '/usr/local/bin/python -m pip install --upgrade pip' command.\u001b[0m\u001b[33m\n",
      "\u001b[0m"
     ]
    }
   ],
   "source": [
    "!pip install kafka-python"
   ]
  },
  {
   "cell_type": "code",
   "execution_count": 2,
   "id": "40823a9c",
   "metadata": {},
   "outputs": [],
   "source": [
    "from kafka import KafkaConsumer\n",
    "\n",
    "bootstrap_servers = ['kafka:9092']\n",
    "topicName = 'orders'\n",
    "\n",
    "consumer = KafkaConsumer(\n",
    "    topicName, \n",
    "    group_id='group1', \n",
    "    bootstrap_servers=bootstrap_servers)"
   ]
  },
  {
   "cell_type": "code",
   "execution_count": 3,
   "id": "0a18d22f",
   "metadata": {
    "scrolled": true
   },
   "outputs": [
    {
     "name": "stdout",
     "output_type": "stream",
     "text": [
      "Topic Name=orders,Message=b'{\"order_id\": \"c8947380-30f3-4633-a36f-3a5e53dd994c\", \"customer_id\": \"894e10e5-ced1-436f-8347-d0f928c06c7e\", \"order_lines\": [{\"product_id\": \"d6e929fc-1fbf-43ff-accc-99add6b6b799\", \"volume\": 26, \"price\": 43.22}, {\"product_id\": \"f6068fbc-2e75-4088-9041-ab46959a7cd1\", \"volume\": 6, \"price\": 16.53}, {\"product_id\": \"92252cf5-cb90-45a2-bb41-92aea8fb9e2c\", \"volume\": 91, \"price\": 79.69}, {\"product_id\": \"cd453ab7-b92d-4c87-b506-7e6df6fcb072\", \"volume\": 3, \"price\": 73.84}, {\"product_id\": \"881010e7-73c1-46d6-89a3-edfa9370f286\", \"volume\": 46, \"price\": 22.76}, {\"product_id\": \"b0750dcf-37eb-4ebe-bb47-ecb288dc50f8\", \"volume\": 23, \"price\": 54.41}, {\"product_id\": \"bbe74932-6bd5-4b0e-8aaf-7f161b6da325\", \"volume\": 8, \"price\": 48.16}, {\"product_id\": \"0b020e8c-9f7f-400b-bbb0-f682a36580fc\", \"volume\": 73, \"price\": 64.16}, {\"product_id\": \"d55543b9-cf84-4e1a-9dc6-f7ef9d7c63c7\", \"volume\": 35, \"price\": 42.36}, {\"product_id\": \"f2312b33-70c1-4b62-a9d7-09f4a9ccc857\", \"volume\": 60, \"price\": 57.73}, {\"product_id\": \"df6b9b3c-4e9f-41c9-af09-8eb049cd76a8\", \"volume\": 81, \"price\": 70.6}, {\"product_id\": \"99717f58-57a9-4ba1-a538-ddb4b4f455e1\", \"volume\": 55, \"price\": 14.28}, {\"product_id\": \"9942f98f-52aa-4c32-8b63-32f836898459\", \"volume\": 27, \"price\": 70.63}, {\"product_id\": \"835cadb5-2e69-46b2-8af6-f3cd57e641be\", \"volume\": 9, \"price\": 84.47}, {\"product_id\": \"110485e6-f240-45bf-933f-a46257a4dfec\", \"volume\": 22, \"price\": 36.09}, {\"product_id\": \"05e899a9-9dbf-455d-a4bf-2dfd5909ca8b\", \"volume\": 69, \"price\": 81.91}, {\"product_id\": \"7dbf466c-e159-45dd-858c-4c9711adf93a\", \"volume\": 16, \"price\": 78.22}, {\"product_id\": \"1bcc398e-8dd2-40fa-aceb-7e554ec6a4a7\", \"volume\": 52, \"price\": 11.56}, {\"product_id\": \"31d5ed27-6fa6-4b80-b48d-1271aa905148\", \"volume\": 51, \"price\": 78.68}, {\"product_id\": \"2ccd8154-c9df-46dd-8235-269bc5be427f\", \"volume\": 84, \"price\": 97.19}, {\"product_id\": \"58e544d0-90ea-481a-8f54-a82e70449489\", \"volume\": 100, \"price\": 78.46}, {\"product_id\": \"e189cfae-3bb0-45a4-aeb0-69cee69e1ef2\", \"volume\": 55, \"price\": 57.57}, {\"product_id\": \"dc685ac7-21a5-4213-974b-2a3e62a1ef90\", \"volume\": 85, \"price\": 53.43}, {\"product_id\": \"88213031-ae82-4cd1-9ab9-eda98384cccd\", \"volume\": 82, \"price\": 95.61}, {\"product_id\": \"de004eef-879a-4f32-8384-02c50e054cc1\", \"volume\": 74, \"price\": 79.76}, {\"product_id\": \"b3e3c8fd-4063-4884-abe4-87f244bfd51d\", \"volume\": 99, \"price\": 43.54}, {\"product_id\": \"2c36fe71-3647-43ac-af49-a22876f80b4e\", \"volume\": 17, \"price\": 6.21}, {\"product_id\": \"445056a7-09f6-444e-a4f6-0a121de00773\", \"volume\": 60, \"price\": 43.68}, {\"product_id\": \"d75a2781-3cc0-4967-b10f-c96625618460\", \"volume\": 31, \"price\": 32.23}, {\"product_id\": \"21c812e8-6bfe-48c3-b93b-b3d293837cee\", \"volume\": 88, \"price\": 56.87}, {\"product_id\": \"d9ef0389-81e1-4670-9d3c-8589bc60698c\", \"volume\": 85, \"price\": 92.36}, {\"product_id\": \"1a7092a0-dfbc-4bff-8f81-6eac53b0b9af\", \"volume\": 65, \"price\": 21.79}, {\"product_id\": \"c99ed869-5129-48b9-b1a8-cc6448ca4d69\", \"volume\": 85, \"price\": 45.62}, {\"product_id\": \"3ed6b6a6-9037-47b9-82ec-30542a48dcde\", \"volume\": 98, \"price\": 23.71}, {\"product_id\": \"4aa110b7-9a1d-402b-aaf3-17ecf9e8b552\", \"volume\": 74, \"price\": 57.59}, {\"product_id\": \"a45ee9f1-241e-42af-8b97-b0d929826ea4\", \"volume\": 28, \"price\": 64.94}, {\"product_id\": \"e07b51fd-4676-4d5a-9bf6-10a9ca2ebf24\", \"volume\": 83, \"price\": 24.78}, {\"product_id\": \"b0750dcf-37eb-4ebe-bb47-ecb288dc50f8\", \"volume\": 57, \"price\": 54.41}, {\"product_id\": \"ce163813-e392-48f6-b999-e65bfa610e97\", \"volume\": 22, \"price\": 12.12}, {\"product_id\": \"16f2a5d3-7eed-4b1b-bc5b-d793616d431a\", \"volume\": 4, \"price\": 39.03}, {\"product_id\": \"bd88ac6b-9593-40bd-9e4a-856ba657c3c7\", \"volume\": 34, \"price\": 66.34}, {\"product_id\": \"03c5886c-bf52-45ea-a2bc-8b01320c6adf\", \"volume\": 34, \"price\": 65.44}, {\"product_id\": \"81e9156b-7521-4f61-861c-cddb079f8ce2\", \"volume\": 24, \"price\": 93.67}, {\"product_id\": \"e70c3495-ea96-406c-9744-0cf9dfe27621\", \"volume\": 50, \"price\": 39.21}, {\"product_id\": \"eaf1855d-e97c-45ff-a2fe-3b3cbb92ed51\", \"volume\": 23, \"price\": 62.2}, {\"product_id\": \"157efafb-2cd2-44a5-b00d-fa8114315848\", \"volume\": 84, \"price\": 42.89}, {\"product_id\": \"7def6e14-98d3-4960-ae5c-514d07c12783\", \"volume\": 44, \"price\": 60.96}, {\"product_id\": \"ab75129c-83f1-4db2-848b-2406ae82ec3e\", \"volume\": 48, \"price\": 62.29}, {\"product_id\": \"909776b6-3fc8-4c65-8691-401918bed8c8\", \"volume\": 5, \"price\": 47.14}, {\"product_id\": \"f6318e5a-9c72-4d63-87a8-1963a69b7f67\", \"volume\": 42, \"price\": 28.08}, {\"product_id\": \"6ebe1c72-2f14-4849-bc77-c0eb2a49b3df\", \"volume\": 10, \"price\": 27.27}, {\"product_id\": \"dcf9c381-8e81-4da1-b37e-1a08c71fa72d\", \"volume\": 95, \"price\": 47.99}, {\"product_id\": \"28534a1c-532e-4825-83bc-a313c766b62b\", \"volume\": 56, \"price\": 43.79}, {\"product_id\": \"db1afe62-eca4-491e-8b38-f2712ecc2ead\", \"volume\": 52, \"price\": 34.31}, {\"product_id\": \"8b31bd4d-fd99-4bef-af6d-b0f93d6d7d49\", \"volume\": 80, \"price\": 73.09}, {\"product_id\": \"30c1c53c-c6e2-4c3e-8370-e5fe4c2c27c9\", \"volume\": 82, \"price\": 35.19}, {\"product_id\": \"8d7cf6be-6b3b-4a3e-8027-95346cfc6c36\", \"volume\": 50, \"price\": 71.4}, {\"product_id\": \"0204268c-615b-4d03-bee5-f23a8c961778\", \"volume\": 100, \"price\": 36.94}, {\"product_id\": \"832119c6-fac6-49ec-be69-12dadffacfba\", \"volume\": 77, \"price\": 24.43}, {\"product_id\": \"a6d074e3-4a43-4a0f-a6ac-1ad8250c151b\", \"volume\": 97, \"price\": 1.45}, {\"product_id\": \"8b51537d-d438-407f-a5cc-e73ef00a2aa3\", \"volume\": 17, \"price\": 99.26}, {\"product_id\": \"ca6df512-023c-4d43-8f67-e4043c5358fd\", \"volume\": 55, \"price\": 86.21}, {\"product_id\": \"2d8d2ca1-46ed-4c3c-8ebe-47dae92faf51\", \"volume\": 45, \"price\": 37.88}, {\"product_id\": \"f6b54e7d-bb57-4474-a94d-6cacd8ba3349\", \"volume\": 51, \"price\": 1.25}, {\"product_id\": \"ab75129c-83f1-4db2-848b-2406ae82ec3e\", \"volume\": 81, \"price\": 62.29}, {\"product_id\": \"a4a3a1b5-098b-4f1d-8173-c6b94cd19621\", \"volume\": 81, \"price\": 39.32}], \"amount\": 184446.07000000004, \"timestamp\": \"2022-10-28T14:13:02.872607\"}'\n",
      "Topic Name=orders,Message=b'{\"order_id\": \"e7c2c72c-d4eb-4047-8a47-23bf6bea3f61\", \"customer_id\": \"b116e02a-6e15-42c7-9617-9a316ec2b607\", \"order_lines\": [{\"product_id\": \"c35b8bd6-0b38-405f-bc9c-c979a241220f\", \"volume\": 88, \"price\": 52.21}, {\"product_id\": \"4a39c1a1-54da-43cd-89e1-b5e4ef8c96e6\", \"volume\": 30, \"price\": 9.14}, {\"product_id\": \"092f0b00-e512-44a3-a3b5-e3aab14396c4\", \"volume\": 23, \"price\": 93.67}, {\"product_id\": \"fe319e3f-e1f8-41f1-8f04-65b1e950bd88\", \"volume\": 31, \"price\": 11.08}, {\"product_id\": \"f916ebfd-2e10-464e-85af-bdb44bb1f2b3\", \"volume\": 64, \"price\": 9.91}, {\"product_id\": \"4694d619-9254-44f9-bc99-c97fdbd20dce\", \"volume\": 30, \"price\": 64.87}, {\"product_id\": \"c99c1a7d-813f-43d4-a2b6-785d1c6e249a\", \"volume\": 77, \"price\": 60.72}, {\"product_id\": \"f1327a58-7349-4f42-8d77-cd4284494524\", \"volume\": 79, \"price\": 13.71}, {\"product_id\": \"2371d781-3ee9-4838-b5a8-0ce3a0c7f752\", \"volume\": 84, \"price\": 25.24}, {\"product_id\": \"f2c4ac91-7ce9-4928-bb0f-c582151374f0\", \"volume\": 7, \"price\": 7.2}, {\"product_id\": \"0a53a781-dab4-441c-a56a-b1c6ce0677d0\", \"volume\": 61, \"price\": 78.69}], \"amount\": 22676.09, \"timestamp\": \"2022-10-28T14:13:07.958495\"}'\n",
      "Topic Name=orders,Message=b'{\"order_id\": \"e6e351cd-5ea8-40f3-b045-61c534051e45\", \"customer_id\": \"cc6fbe08-518b-44d1-93ec-2c721c54a79b\", \"order_lines\": [{\"product_id\": \"b055a265-ad17-47a7-845b-e4cdbdf97fa3\", \"volume\": 96, \"price\": 12.83}, {\"product_id\": \"2ac21791-691c-4b17-9e0e-dcad9486b181\", \"volume\": 2, \"price\": 82.46}, {\"product_id\": \"912cefb4-4a7c-4b45-abaf-8db33725984b\", \"volume\": 27, \"price\": 90.01}, {\"product_id\": \"7d3e7fc1-f54b-4b53-be4d-41e9706f2349\", \"volume\": 61, \"price\": 69.45}, {\"product_id\": \"de5bc134-9803-4047-9977-d74b13e8102c\", \"volume\": 40, \"price\": 30.18}, {\"product_id\": \"8d09fc5e-cf29-49a3-9df3-420e20182f71\", \"volume\": 22, \"price\": 83.93}, {\"product_id\": \"31d5ed27-6fa6-4b80-b48d-1271aa905148\", \"volume\": 75, \"price\": 78.68}, {\"product_id\": \"a311de9d-5520-4284-bdfb-1aee1592b44a\", \"volume\": 64, \"price\": 11.91}, {\"product_id\": \"b8907ed2-fcb7-4d23-a0a7-c125a2dca717\", \"volume\": 12, \"price\": 57.15}, {\"product_id\": \"7b2a88a4-f968-43dc-bf17-35051874dd68\", \"volume\": 64, \"price\": 92.19}, {\"product_id\": \"4d62bb7c-9ca2-4ebc-ab22-bec693b995bb\", \"volume\": 99, \"price\": 62.8}, {\"product_id\": \"7e11ccff-7555-4c8e-822d-d75f2000a309\", \"volume\": 38, \"price\": 48.45}, {\"product_id\": \"16f2a5d3-7eed-4b1b-bc5b-d793616d431a\", \"volume\": 0, \"price\": 39.03}, {\"product_id\": \"685d03aa-eb89-470a-802d-aa722c650370\", \"volume\": 74, \"price\": 17.2}, {\"product_id\": \"0bdd1bf2-4cc1-446b-88ba-6a43c1a3bd86\", \"volume\": 66, \"price\": 84.27}, {\"product_id\": \"3def864a-f3b1-434a-a076-9b3f00307b1c\", \"volume\": 55, \"price\": 68.32}, {\"product_id\": \"caab5cc3-fa4e-4917-83f8-1cec7aa02812\", \"volume\": 86, \"price\": 31.49}, {\"product_id\": \"670b656b-94f4-485b-9b31-cc6b4f4605a4\", \"volume\": 10, \"price\": 6.0}], \"amount\": 45784.84, \"timestamp\": \"2022-10-28T14:13:12.125543\"}'\n"
     ]
    }
   ],
   "source": [
    "# Read and print message from consumer\n",
    "counter = 3\n",
    "for msg in consumer:\n",
    "    if counter == 0:\n",
    "        break\n",
    "    print(\"Topic Name=%s,Message=%s\"%(msg.topic,msg.value))\n",
    "    counter = counter - 1"
   ]
  },
  {
   "cell_type": "markdown",
   "id": "838a30e9",
   "metadata": {},
   "source": [
    "## Functions for Data Processing"
   ]
  },
  {
   "cell_type": "code",
   "execution_count": 4,
   "id": "acc0d371",
   "metadata": {},
   "outputs": [],
   "source": [
    "# Importing necessary libraries\n",
    "from pyspark.sql import DataFrame, Window, SparkSession\n",
    "import pyspark.sql.functions as fs\n",
    "\n",
    "# Setting variables\n",
    "NS = \"dal\""
   ]
  },
  {
   "cell_type": "markdown",
   "id": "390f4248",
   "metadata": {},
   "source": [
    "### Utility Functions"
   ]
  },
  {
   "cell_type": "code",
   "execution_count": 5,
   "id": "a858a86e",
   "metadata": {},
   "outputs": [],
   "source": [
    "def deduplicate(df, partition_key, order_column):\n",
    "    \n",
    "    window = Window.partitionBy(*partition_key).orderBy(order_column)\n",
    "    return (\n",
    "        df.withColumn(\"RowNr\", fs.row_number().over(window)).where(\"RowNr = 1\").drop(\"RowNr\")\n",
    "    )\n",
    "\n",
    "def check_for_table(spark: SparkSession, model, table_name):\n",
    "    \n",
    "    try:\n",
    "        spark.read.table(f\"{model}.{table_name}\")\n",
    "        return True        \n",
    "    except:\n",
    "        pass"
   ]
  },
  {
   "cell_type": "markdown",
   "id": "33f6e7bc",
   "metadata": {},
   "source": [
    "### Database Object Functions"
   ]
  },
  {
   "cell_type": "code",
   "execution_count": 6,
   "id": "49edf5fa",
   "metadata": {},
   "outputs": [],
   "source": [
    "def create_iceberg_table(spark: SparkSession, db_name, table_name, columns, replace: bool = False):\n",
    "    \n",
    "    try:\n",
    "        if replace:\n",
    "            spark.sql(f\"CREATE OR REPLACE TABLE {NS}.{db_name}.{table_name} ({columns}) USING iceberg\")\n",
    "            print(f\"Table {table_name} replaced.\")\n",
    "        else:\n",
    "            spark.sql(f\"CREATE TABLE IF NOT EXISTS {NS}.{db_name}.{table_name} ({columns}) USING iceberg\")\n",
    "            print(f\"Table {table_name} created.\")\n",
    "            \n",
    "    except Exception as e:\n",
    "        print(f\"Table creation failed with error {e}\")\n",
    "        \n",
    "def append_to_iceberg_table(spark: SparkSession, df, model, table_name):\n",
    "    \n",
    "    try:\n",
    "        if not check_for_table(spark, model, table_name):\n",
    "            print(f\"Table {table_name} does not exist.\")\n",
    "        df.writeTo(f\"{NS}.{model}.{table_name}\").append()\n",
    "        print(f\"Data appended to table {table_name}.\")\n",
    "    except Exception as e:\n",
    "        print(f\"Failed to append to table {table_name} with error {e}\")        \n",
    "        \n",
    "def read_minio_data(spark: SparkSession, source_bucket, file_name, is_json = False):\n",
    "    \n",
    "    inputPath = f\"s3a://{source_bucket}/{file_name}\"\n",
    "    \n",
    "    if is_json:\n",
    "        return spark.read.json(inputPath).drop(\"order_lines\")\n",
    "    else:\n",
    "        return spark.read.option(\"header\", \"true\").format(\"s3selectCSV\").csv(inputPath)   "
   ]
  },
  {
   "cell_type": "markdown",
   "id": "5d43742c",
   "metadata": {},
   "source": [
    "### Database creation"
   ]
  },
  {
   "cell_type": "code",
   "execution_count": 7,
   "id": "296c58f9",
   "metadata": {},
   "outputs": [],
   "source": [
    "def create_database(spark: SparkSession, db_name: str):\n",
    "    \n",
    "    try:\n",
    "        spark.sql(f\"CREATE DATABASE IF NOT EXISTS {NS}.{db_name} LOCATION 's3a://{NS}/{db_name}'\")\n",
    "        print(f\"Database {db_name} created.\")\n",
    "    except Exception as e:\n",
    "        print(f\"Database creation failed with error {e}\")"
   ]
  },
  {
   "cell_type": "markdown",
   "id": "6bb6b80e",
   "metadata": {},
   "source": [
    "### Data Transformation"
   ]
  },
  {
   "cell_type": "code",
   "execution_count": 12,
   "id": "222986a3",
   "metadata": {},
   "outputs": [],
   "source": [
    "def process_customer_data(spark: SparkSession, df):\n",
    "    \n",
    "    df = (spark.sql(\"select * from staging.stg_Customer\")\n",
    "        .withColumnRenamed(\"customer_id\", \"CustomerId\")\n",
    "        .withColumnRenamed(\"company_name\", \"CompanyName\")\n",
    "        .withColumnRenamed(\"specialized_industries\", \"SpecializedIndustries\"))\n",
    "    \n",
    "    return deduplicate(df, [\"CustomerId\"], fs.col(\"CompanyName\"))\n",
    "    \n",
    "def process_industry_data(spark: SparkSession, df):\n",
    "    \n",
    "    df = (spark.sql(\"select * from staging.stg_Industry\")\n",
    "        .withColumnRenamed(\"industry\", \"Industry\"))\n",
    "    \n",
    "    return deduplicate(df, [\"Industry\"], fs.col(\"Industry\"))\n",
    "    \n",
    "def process_order_data(spark: SparkSession, df):\n",
    "    \n",
    "    df = (spark.sql(\"select * from staging.stg_StreamOrders\")\n",
    "        .withColumnRenamed(\"order_id\", \"OrderId\")\n",
    "        .withColumnRenamed(\"customer_id\", \"CustomerId\")\n",
    "        .withColumnRenamed(\"amoung\", \"Amount\")\n",
    "        .withColumnRenamed(\"timestamp\", \"Timestamp\"))\n",
    "    \n",
    "    return deduplicate(df, [\"OrderId\"], fs.col(\"Timestamp\"))\n",
    "    \n",
    "def process_product_data(spark: SparkSession, df):\n",
    "    \n",
    "    df = (spark.sql(\"select * from staging.stg_Product\")\n",
    "        .withColumnRenamed(\"product_id\", \"ProductId\")\n",
    "        .withColumnRenamed(\"product_name\", \"ProductName\")\n",
    "        .withColumnRenamed(\"price\", \"Price\"))\n",
    "    \n",
    "    return deduplicate(df, [\"ProductId\"], fs.col(\"ProductName\"))"
   ]
  },
  {
   "cell_type": "code",
   "execution_count": 19,
   "id": "94451a92",
   "metadata": {},
   "outputs": [],
   "source": [
    "def create_db(spark: SparkSession):\n",
    "    \n",
    "    create_database(spark, \"staging\")\n",
    "    create_database(spark, \"prod\")\n",
    "    \n",
    "def create_tables(spark: SparkSession):\n",
    "    \n",
    "    create_iceberg_table(spark, \"staging\",\"stg_Product\", \"product_id string, product_name string, price string\")\n",
    "    create_iceberg_table(spark, \"staging\",\"stg_StreamOrders\", \"order_id string, customer_id string, amount double, timestamp string\")\n",
    "    create_iceberg_table(spark, \"staging\",\"stg_Customer\", \"customer_id string, company_name string, specialized_industries string\")\n",
    "    create_iceberg_table(spark, \"staging\",\"stg_Industry\", \"industry string\")\n",
    "    \n",
    "    \n",
    "def insert_into_product_staging(spark: SparkSession):\n",
    "    \n",
    "    df = read_minio_data(spark, \"demo-data\", \"Products.csv\")\n",
    "    append_to_iceberg_table(spark, df, \"staging\", \"stg_Product\")\n",
    "\n",
    "    \n",
    "def insert_into_order_staging(spark: SparkSession):\n",
    "    \n",
    "    df = read_minio_data(spark, \"demo-data\", \"orders.json\", True)\n",
    "    append_to_iceberg_table(spark, df, \"staging\", \"stg_StreamOrders\")\n",
    "\n",
    "    \n",
    "def insert_into_customer_staging(spark: SparkSession):\n",
    "    \n",
    "    df = read_minio_data(spark, \"demo-data\", \"Customers.csv\")\n",
    "    append_to_iceberg_table(spark, df, \"staging\", \"stg_Customer\")\n",
    "  \n",
    "    \n",
    "def insert_into_industry_staging(spark: SparkSession):\n",
    "    \n",
    "    df = read_minio_data(spark, \"demo-data\", \"Industries.csv\")\n",
    "    append_to_iceberg_table(spark, df, \"staging\", \"stg_Industry\")\n",
    "    \n",
    "\n",
    "def product_stage_to_main(spark: SparkSession, replace: bool):\n",
    "    \n",
    "    df = spark.sql(\"select * from staging.stg_Product\")\n",
    "    df = process_product(spark, df)\n",
    "    create_iceberg_table(spark, \"prod\", \"Product\", \"ProductId string, ProductName string, Price double\", replace=replace)\n",
    "    append_to_iceberg_table(spark, df, \"prod\", \"Product\")\n",
    "    \n",
    "\n",
    "def order_stage_to_main(spark: SparkSession, replace: bool):\n",
    "    \n",
    "    df = spark.sql(\"select * from staging.stg_StreamOrders\")\n",
    "    df = process_order(spark, df)\n",
    "    create_iceberg_table(spark, \"prod\", \"StreamOrders\", \"OrderId string, CustomerId string, Amount double, Timestamp timestamp\", replace=replace)\n",
    "    append_to_iceberg_table(spark, df, \"prod\", \"StreamOrders\")\n",
    "    \n",
    "    \n",
    "def industry_stage_to_main(spark: SparkSession, replace: bool):\n",
    "    \n",
    "    df = spark.sql(\"select * from staging.stg_Industry\")\n",
    "    df = process_industry(spark, df)\n",
    "    create_iceberg_table(spark, \"prod\", \"Industry\", \"Industry string\", replace=replace)\n",
    "    append_to_iceberg_table(spark, df, \"prod\", \"Industry\")\n",
    "    \n",
    "    \n",
    "def customer_stage_to_main(spark: SparkSession, replace: bool):\n",
    "    \n",
    "    df = spark.sql(\"select * from staging.stg_Customer\")\n",
    "    df = process_customer(spark, df)\n",
    "    create_iceberg_table(spark, \"prod\", \"Customer\", \"CustomerId string, CompanyName string, SpecializedIndustries string\", replace=replace)\n",
    "    append_to_iceberg_table(spark, df, \"prod\", \"Customer\")"
   ]
  },
  {
   "cell_type": "markdown",
   "id": "fed9bd69",
   "metadata": {},
   "source": [
    "### Assignment Run"
   ]
  },
  {
   "cell_type": "code",
   "execution_count": 14,
   "id": "ae6e30b3",
   "metadata": {},
   "outputs": [
    {
     "name": "stdout",
     "output_type": "stream",
     "text": [
      "Database staging created.\n",
      "Database prod created.\n",
      "Table stg_Product created.\n",
      "Table stg_StreamOrders created.\n",
      "Table stg_Customer created.\n",
      "Table stg_Industry created.\n"
     ]
    }
   ],
   "source": [
    "create_db(spark)\n",
    "create_tables(spark)"
   ]
  },
  {
   "cell_type": "code",
   "execution_count": 15,
   "id": "0ea68da3",
   "metadata": {},
   "outputs": [
    {
     "name": "stdout",
     "output_type": "stream",
     "text": [
      "Failed to append to table stg_Product with error Cannot write incompatible data to table 'dal.staging.stg_Product':\n",
      "- Cannot safely cast 'price': string to double\n"
     ]
    },
    {
     "name": "stderr",
     "output_type": "stream",
     "text": [
      "                                                                                \r"
     ]
    },
    {
     "name": "stdout",
     "output_type": "stream",
     "text": [
      "Data appended to table stg_StreamOrders.\n",
      "Data appended to table stg_Customer.\n",
      "Data appended to table stg_Industry.\n"
     ]
    },
    {
     "name": "stderr",
     "output_type": "stream",
     "text": [
      "WARNING:kafka.coordinator:Heartbeat poll expired, leaving group\n"
     ]
    }
   ],
   "source": [
    "insert_into_product_staging(spark)\n",
    "insert_into_order_staging(spark)\n",
    "insert_into_customer_staging(spark)\n",
    "insert_into_industry_staging(spark)"
   ]
  },
  {
   "cell_type": "code",
   "execution_count": null,
   "id": "56081b5c",
   "metadata": {},
   "outputs": [],
   "source": []
  }
 ],
 "metadata": {
  "kernelspec": {
   "display_name": "Python 3 (ipykernel)",
   "language": "python",
   "name": "python3"
  },
  "language_info": {
   "codemirror_mode": {
    "name": "ipython",
    "version": 3
   },
   "file_extension": ".py",
   "mimetype": "text/x-python",
   "name": "python",
   "nbconvert_exporter": "python",
   "pygments_lexer": "ipython3",
   "version": "3.9.13"
  }
 },
 "nbformat": 4,
 "nbformat_minor": 5
}
