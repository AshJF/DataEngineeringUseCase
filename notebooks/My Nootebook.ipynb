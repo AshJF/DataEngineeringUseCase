{
 "cells": [
  {
   "cell_type": "markdown",
   "id": "359fb941",
   "metadata": {},
   "source": [
    "# DigiB Assignment"
   ]
  },
  {
   "cell_type": "code",
   "execution_count": 1,
   "id": "c26704bd",
   "metadata": {
    "scrolled": true
   },
   "outputs": [
    {
     "data": {
      "text/html": [
       "\n",
       "            <div>\n",
       "                <p><b>SparkSession - in-memory</b></p>\n",
       "                \n",
       "        <div>\n",
       "            <p><b>SparkContext</b></p>\n",
       "\n",
       "            <p><a href=\"http://3c9fb517c72b:4041\">Spark UI</a></p>\n",
       "\n",
       "            <dl>\n",
       "              <dt>Version</dt>\n",
       "                <dd><code>v3.3.0</code></dd>\n",
       "              <dt>Master</dt>\n",
       "                <dd><code>local[*]</code></dd>\n",
       "              <dt>AppName</dt>\n",
       "                <dd><code>PySparkShell</code></dd>\n",
       "            </dl>\n",
       "        </div>\n",
       "        \n",
       "            </div>\n",
       "        "
      ],
      "text/plain": [
       "<pyspark.sql.session.SparkSession at 0x7fbff5a7eca0>"
      ]
     },
     "execution_count": 1,
     "metadata": {},
     "output_type": "execute_result"
    }
   ],
   "source": [
    "spark"
   ]
  },
  {
   "cell_type": "markdown",
   "id": "988bcdd6",
   "metadata": {},
   "source": [
    "## Testing Connection to Kafka Topic"
   ]
  },
  {
   "cell_type": "code",
   "execution_count": 1,
   "id": "8e81acbc",
   "metadata": {},
   "outputs": [
    {
     "name": "stdout",
     "output_type": "stream",
     "text": [
      "Collecting kafka-python\n",
      "  Downloading kafka_python-2.0.2-py2.py3-none-any.whl (246 kB)\n",
      "\u001b[2K     \u001b[90m━━━━━━━━━━━━━━━━━━━━━━━━━━━━━━━━━━━━━━━\u001b[0m \u001b[32m246.5/246.5 KB\u001b[0m \u001b[31m5.6 MB/s\u001b[0m eta \u001b[36m0:00:00\u001b[0ma \u001b[36m0:00:01\u001b[0m\n",
      "\u001b[?25hInstalling collected packages: kafka-python\n",
      "Successfully installed kafka-python-2.0.2\n",
      "\u001b[33mWARNING: Running pip as the 'root' user can result in broken permissions and conflicting behaviour with the system package manager. It is recommended to use a virtual environment instead: https://pip.pypa.io/warnings/venv\u001b[0m\u001b[33m\n",
      "\u001b[0m\u001b[33mWARNING: You are using pip version 22.0.4; however, version 22.3 is available.\n",
      "You should consider upgrading via the '/usr/local/bin/python -m pip install --upgrade pip' command.\u001b[0m\u001b[33m\n",
      "\u001b[0m"
     ]
    }
   ],
   "source": [
    "!pip install kafka-python"
   ]
  },
  {
   "cell_type": "code",
   "execution_count": 2,
   "id": "40823a9c",
   "metadata": {},
   "outputs": [],
   "source": [
    "from kafka import KafkaConsumer\n",
    "\n",
    "bootstrap_servers = ['kafka:9092']\n",
    "topicName = 'orders'\n",
    "\n",
    "consumer = KafkaConsumer(\n",
    "    topicName, \n",
    "    group_id='group1', \n",
    "    bootstrap_servers=bootstrap_servers)"
   ]
  },
  {
   "cell_type": "code",
   "execution_count": 3,
   "id": "0a18d22f",
   "metadata": {
    "scrolled": true
   },
   "outputs": [
    {
     "name": "stderr",
     "output_type": "stream",
     "text": [
      "WARNING:kafka.coordinator:Marking the coordinator dead (node coordinator-1) for group group1: [Error 16] NotCoordinatorForGroupError.\n",
      "WARNING:kafka.coordinator:Marking the coordinator dead (node coordinator-1) for group group1: [Error 16] NotCoordinatorForGroupError.\n",
      "WARNING:kafka.coordinator:Marking the coordinator dead (node coordinator-1) for group group1: [Error 16] NotCoordinatorForGroupError.\n"
     ]
    },
    {
     "name": "stdout",
     "output_type": "stream",
     "text": [
      "Topic Name=orders,Message=b'{\"order_id\": \"efdd15dd-0737-404a-93cc-82262e09f0d7\", \"customer_id\": \"b3b191a0-745b-4e14-b74c-ba2cf6b30526\", \"order_lines\": [{\"product_id\": \"6fd457c1-a7ef-4a5a-8e00-ebce44726f8f\", \"volume\": 98, \"price\": 30.23}, {\"product_id\": \"585c890e-bb05-48a4-a8a8-20b5b569296b\", \"volume\": 87, \"price\": 69.0}, {\"product_id\": \"c3a9799e-c666-4509-9d81-08015bcd2628\", \"volume\": 63, \"price\": 81.86}, {\"product_id\": \"a92f5327-c987-479d-9470-f1239916390a\", \"volume\": 31, \"price\": 93.53}, {\"product_id\": \"9772ffc1-3fdf-4187-a9cf-519f334475c2\", \"volume\": 79, \"price\": 25.91}, {\"product_id\": \"65201884-97f3-4c18-90c3-b42d5b277e97\", \"volume\": 14, \"price\": 74.68}, {\"product_id\": \"17b72146-fb11-422c-863b-1cb6e0a2f852\", \"volume\": 61, \"price\": 36.5}, {\"product_id\": \"92252cf5-cb90-45a2-bb41-92aea8fb9e2c\", \"volume\": 50, \"price\": 79.69}, {\"product_id\": \"cf582135-2855-42e2-9580-e26294efc1a3\", \"volume\": 21, \"price\": 29.04}, {\"product_id\": \"2464bf0d-133a-4ec5-ae96-4a86f5a657d1\", \"volume\": 54, \"price\": 4.29}, {\"product_id\": \"dccb01a8-f8f5-4214-8690-7eca0eb1b681\", \"volume\": 36, \"price\": 24.95}, {\"product_id\": \"1557bee6-78f9-4e80-a280-095aea9d7da6\", \"volume\": 7, \"price\": 79.01}, {\"product_id\": \"17b72146-fb11-422c-863b-1cb6e0a2f852\", \"volume\": 9, \"price\": 36.5}, {\"product_id\": \"aadb6617-9cb1-4ec0-bb62-fa38d28af487\", \"volume\": 65, \"price\": 53.65}, {\"product_id\": \"374e46d6-3ba3-4ac9-9800-54e612e3786b\", \"volume\": 98, \"price\": 70.6}, {\"product_id\": \"0d5e8872-2841-4009-a944-05b5ed723dc7\", \"volume\": 57, \"price\": 21.08}, {\"product_id\": \"8382d061-55ac-463e-9c85-0f2379c73425\", \"volume\": 78, \"price\": 58.38}, {\"product_id\": \"6a1eb281-bbc8-4784-8a84-49f8c7258a3a\", \"volume\": 23, \"price\": 47.98}, {\"product_id\": \"6446a984-fe9a-4558-9bde-74fc6c34a539\", \"volume\": 81, \"price\": 74.78}, {\"product_id\": \"a7033b9e-a4b1-4bba-ab0b-47f065a2ec16\", \"volume\": 27, \"price\": 2.65}, {\"product_id\": \"55188f1b-3293-4dfa-861e-3f7e19226184\", \"volume\": 76, \"price\": 6.39}, {\"product_id\": \"a92f5327-c987-479d-9470-f1239916390a\", \"volume\": 98, \"price\": 93.53}, {\"product_id\": \"46f78bb5-d1f1-4e3d-a67d-5728e5fe142c\", \"volume\": 50, \"price\": 69.52}, {\"product_id\": \"670b656b-94f4-485b-9b31-cc6b4f4605a4\", \"volume\": 86, \"price\": 6.0}, {\"product_id\": \"2ef8fdba-6963-4c71-b3fb-c443dee3a73e\", \"volume\": 92, \"price\": 21.48}, {\"product_id\": \"c53a8268-5514-4181-ac39-513c341a0789\", \"volume\": 2, \"price\": 9.4}, {\"product_id\": \"763bcbb2-3dd9-4844-a189-2fd9884495cf\", \"volume\": 62, \"price\": 6.15}, {\"product_id\": \"c8196816-2586-426b-a7a1-11e257c362ba\", \"volume\": 62, \"price\": 10.61}, {\"product_id\": \"76926074-8ae8-4a99-8c2c-e07308b0b2b7\", \"volume\": 41, \"price\": 61.46}, {\"product_id\": \"13409e2e-a8c8-45b9-a073-218e0a522e97\", \"volume\": 57, \"price\": 77.86}, {\"product_id\": \"d86b1ea4-9ebc-4687-a321-0d0dbd87dacd\", \"volume\": 55, \"price\": 18.3}, {\"product_id\": \"6bec6f63-c0e9-4aae-a3a8-054e97150613\", \"volume\": 36, \"price\": 22.4}, {\"product_id\": \"99717f58-57a9-4ba1-a538-ddb4b4f455e1\", \"volume\": 13, \"price\": 14.28}, {\"product_id\": \"6f92ca5f-f195-493a-9704-bffca72d869e\", \"volume\": 92, \"price\": 57.07}, {\"product_id\": \"5d89f3d7-01d9-4759-ae5d-92e1ebda7566\", \"volume\": 76, \"price\": 51.6}, {\"product_id\": \"9fa253d6-26bc-45e0-a96e-e3cb2e39bd2c\", \"volume\": 31, \"price\": 57.33}, {\"product_id\": \"e71727ca-bb85-4002-bb50-baaa52748b66\", \"volume\": 75, \"price\": 44.36}, {\"product_id\": \"6ebe1c72-2f14-4849-bc77-c0eb2a49b3df\", \"volume\": 79, \"price\": 27.27}, {\"product_id\": \"b61e60bd-5893-4f28-be9a-39cc2288e18a\", \"volume\": 30, \"price\": 63.33}, {\"product_id\": \"aca84752-4577-47bc-9429-3bbdf437fa48\", \"volume\": 44, \"price\": 5.92}, {\"product_id\": \"c2139eca-5eba-4d30-893d-f6a239269c14\", \"volume\": 50, \"price\": 20.78}, {\"product_id\": \"dae74645-2887-4b9a-8790-eb17946a6305\", \"volume\": 41, \"price\": 9.67}, {\"product_id\": \"340cf03b-3d56-43d4-a036-3a15e2462b78\", \"volume\": 89, \"price\": 63.47}, {\"product_id\": \"e4f70e79-0af8-4c5b-8e42-07a36a66a499\", \"volume\": 73, \"price\": 61.4}, {\"product_id\": \"e4d70658-5823-4c6e-8846-f9bf59c33af4\", \"volume\": 90, \"price\": 78.06}, {\"product_id\": \"2c6c3e12-ec68-46b3-8e3f-1f6c97b2738d\", \"volume\": 45, \"price\": 45.23}, {\"product_id\": \"915676fb-6dd3-4a4d-9ef0-5fb3469b46a7\", \"volume\": 60, \"price\": 54.68}, {\"product_id\": \"5df62b94-baa3-4412-b55b-ccbb983aa4f1\", \"volume\": 91, \"price\": 45.41}, {\"product_id\": \"901f5b0e-1e6c-40dd-8504-084f8d639ccb\", \"volume\": 94, \"price\": 33.57}, {\"product_id\": \"25f308c0-4450-4593-b43a-0d8b5d078b62\", \"volume\": 0, \"price\": 90.62}, {\"product_id\": \"efa1ed4b-06cb-4a4d-91e5-b54f5e60475c\", \"volume\": 8, \"price\": 97.24}, {\"product_id\": \"557ecbc4-a9b5-4e2b-84ac-6f5c186a56d6\", \"volume\": 62, \"price\": 54.73}, {\"product_id\": \"aee74bbb-cf56-452e-86cc-776dfb0aeb85\", \"volume\": 96, \"price\": 81.32}, {\"product_id\": \"d738389d-0744-496a-969c-86cfd5b6c156\", \"volume\": 87, \"price\": 11.97}, {\"product_id\": \"fc7129b0-9174-45f9-ac97-5e30a7585378\", \"volume\": 28, \"price\": 89.91}, {\"product_id\": \"417f69e2-935d-490c-8e65-7f5caadefcb3\", \"volume\": 78, \"price\": 56.24}, {\"product_id\": \"4e9e5c61-577d-4b04-ab4b-3c44c8137675\", \"volume\": 6, \"price\": 37.16}, {\"product_id\": \"7713f70e-3f73-4714-9a0f-2c3e7fd00197\", \"volume\": 84, \"price\": 79.71}, {\"product_id\": \"e15c31e0-2022-4c7e-b654-e38c1b402fff\", \"volume\": 67, \"price\": 49.67}, {\"product_id\": \"9fa253d6-26bc-45e0-a96e-e3cb2e39bd2c\", \"volume\": 29, \"price\": 57.33}, {\"product_id\": \"1bfe1279-a056-4996-8ff4-6da55060d7f8\", \"volume\": 74, \"price\": 44.05}, {\"product_id\": \"c99ed869-5129-48b9-b1a8-cc6448ca4d69\", \"volume\": 8, \"price\": 45.62}, {\"product_id\": \"88213031-ae82-4cd1-9ab9-eda98384cccd\", \"volume\": 15, \"price\": 95.61}, {\"product_id\": \"6e91ff93-17ff-4398-b0fb-c96ac9d8e340\", \"volume\": 16, \"price\": 16.25}, {\"product_id\": \"472b9ad9-58d6-4698-86ce-99340abb39fd\", \"volume\": 67, \"price\": 38.62}, {\"product_id\": \"9dac6268-1eb6-4d9f-99a3-883cefe09eab\", \"volume\": 97, \"price\": 82.29}, {\"product_id\": \"4daad04a-e3aa-4f09-bf61-60d784352b92\", \"volume\": 39, \"price\": 59.69}, {\"product_id\": \"8fbb8fd0-eed8-48bc-b78b-9dba985721bc\", \"volume\": 41, \"price\": 80.38}, {\"product_id\": \"ee65f7fc-8262-4a15-a8ce-a66aacb1ea76\", \"volume\": 3, \"price\": 19.61}, {\"product_id\": \"ee65f7fc-8262-4a15-a8ce-a66aacb1ea76\", \"volume\": 73, \"price\": 19.61}, {\"product_id\": \"2ccd8154-c9df-46dd-8235-269bc5be427f\", \"volume\": 53, \"price\": 97.19}, {\"product_id\": \"eef6c98c-2590-4d5e-82d6-e4e774b7ee76\", \"volume\": 38, \"price\": 57.22}], \"amount\": 189921.66000000006, \"timestamp\": \"2022-10-28T14:30:56.889213\"}'\n",
      "Topic Name=orders,Message=b'{\"order_id\": \"81cdfed3-1ce6-452d-8052-a42a6e94c388\", \"customer_id\": \"de6094dc-27ac-46a1-843e-fcfd46e238f1\", \"order_lines\": [{\"product_id\": \"2bc4c794-2f51-49e6-9de4-af62edf1fc23\", \"volume\": 74, \"price\": 88.4}, {\"product_id\": \"15b94764-8a40-4646-82b6-8ad01c2de3d0\", \"volume\": 36, \"price\": 86.11}, {\"product_id\": \"718b9644-5887-4d12-a4f2-6f88e885b2bb\", \"volume\": 42, \"price\": 15.67}, {\"product_id\": \"aee74bbb-cf56-452e-86cc-776dfb0aeb85\", \"volume\": 45, \"price\": 81.32}, {\"product_id\": \"5ed91653-fa65-4094-920e-bf3731110324\", \"volume\": 63, \"price\": 11.8}, {\"product_id\": \"e76f8435-90cb-47f5-aeea-ebfa752f0486\", \"volume\": 46, \"price\": 89.49}, {\"product_id\": \"ad0f5dcc-55e0-440e-b098-0d1fea12572f\", \"volume\": 58, \"price\": 76.13}, {\"product_id\": \"90380e9d-e8ed-4114-aa23-0613232bd378\", \"volume\": 3, \"price\": 14.68}, {\"product_id\": \"cf366dc5-a4fa-4fac-bbf3-ad8ba238e92e\", \"volume\": 89, \"price\": 45.05}, {\"product_id\": \"e71727ca-bb85-4002-bb50-baaa52748b66\", \"volume\": 47, \"price\": 44.36}, {\"product_id\": \"4f6c6017-9922-4fbc-8fc4-6c4efb3cf3e5\", \"volume\": 65, \"price\": 83.94}, {\"product_id\": \"8827ee7f-6618-4409-b8bd-2a45d4e20434\", \"volume\": 60, \"price\": 48.69}, {\"product_id\": \"7e11ccff-7555-4c8e-822d-d75f2000a309\", \"volume\": 65, \"price\": 48.45}, {\"product_id\": \"ab75129c-83f1-4db2-848b-2406ae82ec3e\", \"volume\": 77, \"price\": 62.29}, {\"product_id\": \"f6ef0d56-d186-4275-8115-4bde3a81b23c\", \"volume\": 75, \"price\": 89.31}, {\"product_id\": \"ef650b1f-55d1-49f0-b95a-52ac43172671\", \"volume\": 98, \"price\": 88.74}, {\"product_id\": \"6e9b7ccb-411e-442a-bed0-e805b48c6e7e\", \"volume\": 51, \"price\": 79.7}, {\"product_id\": \"3702748f-3529-4df5-abb3-1422410dcb5c\", \"volume\": 94, \"price\": 67.8}, {\"product_id\": \"909776b6-3fc8-4c65-8691-401918bed8c8\", \"volume\": 60, \"price\": 47.14}, {\"product_id\": \"110994eb-be55-4869-aefe-fd94ab1ed641\", \"volume\": 22, \"price\": 85.24}, {\"product_id\": \"718b9644-5887-4d12-a4f2-6f88e885b2bb\", \"volume\": 53, \"price\": 15.67}, {\"product_id\": \"a84d886c-ff6e-4445-a52e-7aedc1baf4a5\", \"volume\": 81, \"price\": 59.87}, {\"product_id\": \"13d4a56e-7773-4ef7-820b-92a381a4b739\", \"volume\": 18, \"price\": 1.44}, {\"product_id\": \"d715b53c-11b2-444d-8196-22bdf9e08906\", \"volume\": 11, \"price\": 82.12}, {\"product_id\": \"8d7cf6be-6b3b-4a3e-8027-95346cfc6c36\", \"volume\": 61, \"price\": 71.4}, {\"product_id\": \"85dbee39-ee9d-4869-b1ba-8ff471476b85\", \"volume\": 97, \"price\": 75.16}, {\"product_id\": \"da780e97-b445-4e11-acb5-8d02fcd5504c\", \"volume\": 80, \"price\": 38.11}, {\"product_id\": \"d55543b9-cf84-4e1a-9dc6-f7ef9d7c63c7\", \"volume\": 5, \"price\": 42.36}, {\"product_id\": \"85dbee39-ee9d-4869-b1ba-8ff471476b85\", \"volume\": 52, \"price\": 75.16}, {\"product_id\": \"3e0c14fd-c9c0-458c-a5db-f1a37687628e\", \"volume\": 53, \"price\": 86.77}, {\"product_id\": \"3b944680-ba77-4a46-931a-97598251005a\", \"volume\": 47, \"price\": 8.14}, {\"product_id\": \"29440daa-1c61-44d1-9d3c-6028fcbcfc74\", \"volume\": 77, \"price\": 17.49}, {\"product_id\": \"33cfaa90-8891-46d3-bef3-d1caaf129cf4\", \"volume\": 64, \"price\": 75.85}, {\"product_id\": \"b8e7e8a2-4436-40b8-afdb-23903500594f\", \"volume\": 22, \"price\": 81.65}, {\"product_id\": \"83987e96-281a-4293-9dcc-4885837f491b\", \"volume\": 26, \"price\": 51.94}, {\"product_id\": \"29061f62-50f0-4e73-a46a-77b62b7c7536\", \"volume\": 5, \"price\": 81.09}, {\"product_id\": \"06f62125-6d93-41c8-b397-f9a9ebb00d81\", \"volume\": 75, \"price\": 65.98}, {\"product_id\": \"417f69e2-935d-490c-8e65-7f5caadefcb3\", \"volume\": 62, \"price\": 56.24}, {\"product_id\": \"3220b8af-e4cd-468b-9420-773256d78863\", \"volume\": 26, \"price\": 10.93}, {\"product_id\": \"3ac7e0db-a332-4c59-bc66-0440562fba14\", \"volume\": 52, \"price\": 98.57}, {\"product_id\": \"bf5ea389-4b2e-4c97-89b2-b24826fda6ab\", \"volume\": 72, \"price\": 78.97}, {\"product_id\": \"01e49cd0-9604-4e16-8c75-ccf81939799c\", \"volume\": 5, \"price\": 86.37}, {\"product_id\": \"d42c96d7-4aac-4376-9cbb-0675532529b4\", \"volume\": 17, \"price\": 24.09}, {\"product_id\": \"f60eab7f-2565-40eb-a807-62c8f475e5a6\", \"volume\": 54, \"price\": 6.62}, {\"product_id\": \"58e544d0-90ea-481a-8f54-a82e70449489\", \"volume\": 28, \"price\": 78.46}, {\"product_id\": \"699a32d2-84f8-4df8-8703-95f6ebc1d0c9\", \"volume\": 93, \"price\": 4.11}, {\"product_id\": \"f41b3c23-0e22-436f-b29e-24045db68925\", \"volume\": 97, \"price\": 74.08}, {\"product_id\": \"1316b8a2-5be5-477b-8ebf-a91b58852097\", \"volume\": 41, \"price\": 84.1}, {\"product_id\": \"c7312262-aa99-4cc1-931f-947951c71e18\", \"volume\": 38, \"price\": 52.59}, {\"product_id\": \"3bb904bc-fa63-4e6d-b7a7-89c7392d8d8d\", \"volume\": 34, \"price\": 72.58}, {\"product_id\": \"26c064d7-2de6-440b-af45-2ceef3e94519\", \"volume\": 89, \"price\": 23.83}, {\"product_id\": \"8be41387-dc0d-4d7c-98ee-5aa27d5d4295\", \"volume\": 20, \"price\": 44.37}, {\"product_id\": \"ed2f362a-be07-4746-b7b9-5c87b1b348da\", \"volume\": 38, \"price\": 3.36}, {\"product_id\": \"ed2f362a-be07-4746-b7b9-5c87b1b348da\", \"volume\": 92, \"price\": 3.36}, {\"product_id\": \"9c139997-15b2-4bac-8357-c50b6fd28c1f\", \"volume\": 91, \"price\": 27.65}, {\"product_id\": \"419ce2a4-238c-4e74-b2bf-86e80fb39687\", \"volume\": 26, \"price\": 32.44}, {\"product_id\": \"a9049d60-77ab-4c7a-8dfd-24a22c7b67bb\", \"volume\": 24, \"price\": 85.74}, {\"product_id\": \"c8196816-2586-426b-a7a1-11e257c362ba\", \"volume\": 61, \"price\": 10.61}, {\"product_id\": \"bb65f494-b4c1-442b-99ab-fa893ea2abb4\", \"volume\": 92, \"price\": 15.48}, {\"product_id\": \"bd1c4f39-8c29-4298-8baa-81b095d031ac\", \"volume\": 96, \"price\": 37.36}, {\"product_id\": \"90cfdd29-a790-406d-afdf-621cb29e65f0\", \"volume\": 8, \"price\": 5.64}, {\"product_id\": \"dfb009cf-b0e0-4521-b128-0c9136ec73cf\", \"volume\": 17, \"price\": 21.69}, {\"product_id\": \"912cefb4-4a7c-4b45-abaf-8db33725984b\", \"volume\": 98, \"price\": 90.01}, {\"product_id\": \"5fdf841e-3911-4a58-beae-80db61075e91\", \"volume\": 19, \"price\": 85.04}], \"amount\": 180171.14000000007, \"timestamp\": \"2022-10-28T14:31:05.287259\"}'\n"
     ]
    },
    {
     "name": "stdout",
     "output_type": "stream",
     "text": [
      "Topic Name=orders,Message=b'{\"order_id\": \"56081dec-b5cf-4fd0-8a14-f17bea553fda\", \"customer_id\": \"a29eb877-77f7-475c-8e21-aef3c86bb975\", \"order_lines\": [{\"product_id\": \"bde8a4c0-cca1-49b2-9a10-739ece35df0e\", \"volume\": 38, \"price\": 88.74}, {\"product_id\": \"28534a1c-532e-4825-83bc-a313c766b62b\", \"volume\": 55, \"price\": 43.79}, {\"product_id\": \"2264ae86-4d93-405d-8b89-cdfad7fe5145\", \"volume\": 9, \"price\": 75.08}, {\"product_id\": \"9fe7dbc7-e2a5-4f78-b2e3-989889c3e147\", \"volume\": 99, \"price\": 19.74}, {\"product_id\": \"462715fd-3948-4131-a623-1487395a82fc\", \"volume\": 33, \"price\": 16.29}, {\"product_id\": \"c72392d1-ac64-4e84-a441-d33d98fde34a\", \"volume\": 89, \"price\": 39.15}, {\"product_id\": \"d8b81745-85ec-445f-ae6e-ec78b9c43198\", \"volume\": 6, \"price\": 36.7}, {\"product_id\": \"a2775759-2aec-4512-a7b7-b41ed47e3aee\", \"volume\": 93, \"price\": 8.73}, {\"product_id\": \"76926074-8ae8-4a99-8c2c-e07308b0b2b7\", \"volume\": 47, \"price\": 61.46}, {\"product_id\": \"efa1ed4b-06cb-4a4d-91e5-b54f5e60475c\", \"volume\": 13, \"price\": 97.24}, {\"product_id\": \"b79707d6-0886-4027-b176-a38ed80f3638\", \"volume\": 77, \"price\": 25.82}, {\"product_id\": \"bea37d12-093a-4457-a2d3-588268ed06a9\", \"volume\": 69, \"price\": 49.59}, {\"product_id\": \"08865d36-9a33-4647-9f6c-51a04a6b2044\", \"volume\": 31, \"price\": 8.81}, {\"product_id\": \"4373e860-79f9-45a3-9f88-c19cf4bb5aac\", \"volume\": 4, \"price\": 54.88}, {\"product_id\": \"e116729f-9ad5-42a4-b184-3cb614b13160\", \"volume\": 50, \"price\": 62.48}, {\"product_id\": \"cbd5fef0-2f74-4c3f-92ab-148ce0d5f581\", \"volume\": 46, \"price\": 35.92}], \"amount\": 28296.1, \"timestamp\": \"2022-10-28T14:31:13.542504\"}'\n"
     ]
    }
   ],
   "source": [
    "# Read and print message from consumer\n",
    "counter = 3\n",
    "for msg in consumer:\n",
    "    if counter == 0:\n",
    "        break\n",
    "    print(\"Topic Name=%s,Message=%s\"%(msg.topic,msg.value))\n",
    "    counter = counter - 1"
   ]
  },
  {
   "cell_type": "markdown",
   "id": "838a30e9",
   "metadata": {},
   "source": [
    "## Functions for Data Processing"
   ]
  },
  {
   "cell_type": "code",
   "execution_count": 4,
   "id": "acc0d371",
   "metadata": {},
   "outputs": [],
   "source": [
    "# Importing necessary libraries\n",
    "from pyspark.sql import DataFrame, Window, SparkSession\n",
    "import pyspark.sql.functions as fs\n",
    "\n",
    "# Setting variables\n",
    "NS = \"dal\""
   ]
  },
  {
   "cell_type": "markdown",
   "id": "390f4248",
   "metadata": {},
   "source": [
    "### Utility Functions"
   ]
  },
  {
   "cell_type": "code",
   "execution_count": 5,
   "id": "a858a86e",
   "metadata": {},
   "outputs": [],
   "source": [
    "def deduplicate(df, partition_key, order_column):\n",
    "    \n",
    "    window = Window.partitionBy(*partition_key).orderBy(order_column)\n",
    "    return (\n",
    "        df.withColumn(\"RowNr\", fs.row_number().over(window)).where(\"RowNr = 1\").drop(\"RowNr\")\n",
    "    )\n",
    "\n",
    "def check_for_table(spark: SparkSession, model, table_name):\n",
    "    \n",
    "    try:\n",
    "        spark.read.table(f\"{model}.{table_name}\")\n",
    "        return True        \n",
    "    except:\n",
    "        pass"
   ]
  },
  {
   "cell_type": "markdown",
   "id": "33f6e7bc",
   "metadata": {},
   "source": [
    "### Database Object Functions"
   ]
  },
  {
   "cell_type": "code",
   "execution_count": 6,
   "id": "49edf5fa",
   "metadata": {},
   "outputs": [],
   "source": [
    "def create_iceberg_table(spark: SparkSession, db_name, table_name, columns, replace: bool = False):\n",
    "    \n",
    "    try:\n",
    "        if replace:\n",
    "            spark.sql(f\"CREATE OR REPLACE TABLE {NS}.{db_name}.{table_name} ({columns}) USING iceberg\")\n",
    "            print(f\"Table {table_name} replaced.\")\n",
    "        else:\n",
    "            spark.sql(f\"CREATE TABLE IF NOT EXISTS {NS}.{db_name}.{table_name} ({columns}) USING iceberg\")\n",
    "            print(f\"Table {table_name} created.\")\n",
    "            \n",
    "    except Exception as e:\n",
    "        print(f\"Table creation failed with error {e}\")\n",
    "        \n",
    "def append_to_iceberg_table(spark: SparkSession, df, model, table_name):\n",
    "    \n",
    "    try:\n",
    "        if not check_for_table(spark, model, table_name):\n",
    "            print(f\"Table {table_name} does not exist.\")\n",
    "        df.writeTo(f\"{NS}.{model}.{table_name}\").append()\n",
    "        print(f\"Data appended to table {table_name}.\")\n",
    "    except Exception as e:\n",
    "        print(f\"Failed to append to table {table_name} with error {e}\")        \n",
    "        \n",
    "def read_minio_data(spark: SparkSession, source_bucket, file_name, is_json = False):\n",
    "    \n",
    "    inputPath = f\"s3a://{source_bucket}/{file_name}\"\n",
    "    \n",
    "    if is_json:\n",
    "        return spark.read.json(inputPath).drop(\"order_lines\")\n",
    "    else:\n",
    "        return spark.read.option(\"header\", \"true\").format(\"s3selectCSV\").csv(inputPath)   "
   ]
  },
  {
   "cell_type": "markdown",
   "id": "5d43742c",
   "metadata": {},
   "source": [
    "### Database creation"
   ]
  },
  {
   "cell_type": "code",
   "execution_count": 7,
   "id": "296c58f9",
   "metadata": {},
   "outputs": [],
   "source": [
    "def create_database(spark: SparkSession, db_name: str):\n",
    "    \n",
    "    try:\n",
    "        spark.sql(f\"CREATE DATABASE IF NOT EXISTS {NS}.{db_name} LOCATION 's3a://{NS}/{db_name}'\")\n",
    "        print(f\"Database {db_name} created.\")\n",
    "    except Exception as e:\n",
    "        print(f\"Database creation failed with error {e}\")"
   ]
  },
  {
   "cell_type": "markdown",
   "id": "6bb6b80e",
   "metadata": {},
   "source": [
    "### Data Transformation"
   ]
  },
  {
   "cell_type": "code",
   "execution_count": 8,
   "id": "222986a3",
   "metadata": {},
   "outputs": [],
   "source": [
    "def process_customer_data(spark: SparkSession, df):\n",
    "    \n",
    "    df = (spark.sql(\"select * from stg.stg_Customer\")\n",
    "        .withColumnRenamed(\"customer_id\", \"CustomerId\")\n",
    "        .withColumnRenamed(\"company_name\", \"CompanyName\")\n",
    "        .withColumnRenamed(\"specialized_industries\", \"SpecializedIndustries\"))\n",
    "    \n",
    "    return deduplicate(df, [\"CustomerId\"], fs.col(\"CompanyName\"))\n",
    "    \n",
    "def process_industry_data(spark: SparkSession, df):\n",
    "    \n",
    "    df = (spark.sql(\"select * from stg.stg_Industry\")\n",
    "        .withColumnRenamed(\"industry\", \"Industry\"))\n",
    "    \n",
    "    return deduplicate(df, [\"Industry\"], fs.col(\"Industry\"))\n",
    "    \n",
    "def process_order_data(spark: SparkSession, df):\n",
    "    \n",
    "    df = (spark.sql(\"select * from stg.stg_StreamOrders\")\n",
    "        .withColumnRenamed(\"order_id\", \"OrderId\")\n",
    "        .withColumnRenamed(\"customer_id\", \"CustomerId\")\n",
    "        .withColumnRenamed(\"amoung\", \"Amount\")\n",
    "        .withColumnRenamed(\"timestamp\", \"Timestamp\"))\n",
    "    \n",
    "    return deduplicate(df, [\"OrderId\"], fs.col(\"Timestamp\"))\n",
    "    \n",
    "def process_product_data(spark: SparkSession, df):\n",
    "    \n",
    "    df = (spark.sql(\"select * from stg.stg_Product\")\n",
    "        .withColumnRenamed(\"product_id\", \"ProductId\")\n",
    "        .withColumnRenamed(\"product_name\", \"ProductName\")\n",
    "        .withColumnRenamed(\"price\", \"Price\"))\n",
    "    \n",
    "    return deduplicate(df, [\"ProductId\"], fs.col(\"ProductName\"))"
   ]
  },
  {
   "cell_type": "code",
   "execution_count": 9,
   "id": "94451a92",
   "metadata": {},
   "outputs": [],
   "source": [
    "def create_db(spark: SparkSession):\n",
    "    \n",
    "    create_database(spark, \"stg\")\n",
    "    create_database(spark, \"prd\")\n",
    "    \n",
    "def create_tables(spark: SparkSession):\n",
    "    \n",
    "    create_iceberg_table(spark, \"stg\",\"stg_Product\", \"product_id string, product_name string, price string\")\n",
    "    create_iceberg_table(spark, \"stg\",\"stg_StreamOrders\", \"order_id string, customer_id string, amount double, timestamp string\")\n",
    "    create_iceberg_table(spark, \"stg\",\"stg_Customer\", \"customer_id string, company_name string, specialized_industries string\")\n",
    "    create_iceberg_table(spark, \"stg\",\"stg_Industry\", \"industry string\")\n",
    "    \n",
    "    \n",
    "def insert_into_product_staging(spark: SparkSession):\n",
    "    \n",
    "    df = read_minio_data(spark, \"demo-data\", \"Products.csv\")\n",
    "    append_to_iceberg_table(spark, df, \"stg\", \"stg_Product\")\n",
    "\n",
    "    \n",
    "def insert_into_order_staging(spark: SparkSession):\n",
    "    \n",
    "    df = read_minio_data(spark, \"demo-data\", \"orders.json\", True)\n",
    "    append_to_iceberg_table(spark, df, \"stg\", \"stg_StreamOrders\")\n",
    "\n",
    "    \n",
    "def insert_into_customer_staging(spark: SparkSession):\n",
    "    \n",
    "    df = read_minio_data(spark, \"demo-data\", \"Customers.csv\")\n",
    "    append_to_iceberg_table(spark, df, \"stg\", \"stg_Customer\")\n",
    "  \n",
    "    \n",
    "def insert_into_industry_staging(spark: SparkSession):\n",
    "    \n",
    "    df = read_minio_data(spark, \"demo-data\", \"Industries.csv\")\n",
    "    append_to_iceberg_table(spark, df, \"stg\", \"stg_Industry\")\n",
    "    \n",
    "\n",
    "def product_stage_to_main(spark: SparkSession, replace: bool):\n",
    "    \n",
    "    df = spark.sql(\"select * from stg.stg_Product\")\n",
    "    df = process_product(spark, df)\n",
    "    create_iceberg_table(spark, \"prd\", \"Product\", \"ProductId string, ProductName string, Price double\", replace=replace)\n",
    "    append_to_iceberg_table(spark, df, \"prd\", \"Product\")\n",
    "    \n",
    "\n",
    "def order_stage_to_main(spark: SparkSession, replace: bool):\n",
    "    \n",
    "    df = spark.sql(\"select * from stg.stg_StreamOrders\")\n",
    "    df = process_order(spark, df)\n",
    "    create_iceberg_table(spark, \"prd\", \"StreamOrders\", \"OrderId string, CustomerId string, Amount double, Timestamp timestamp\", replace=replace)\n",
    "    append_to_iceberg_table(spark, df, \"prd\", \"StreamOrders\")\n",
    "    \n",
    "    \n",
    "def industry_stage_to_main(spark: SparkSession, replace: bool):\n",
    "    \n",
    "    df = spark.sql(\"select * from stg.stg_Industry\")\n",
    "    df = process_industry(spark, df)\n",
    "    create_iceberg_table(spark, \"prd\", \"Industry\", \"Industry string\", replace=replace)\n",
    "    append_to_iceberg_table(spark, df, \"prd\", \"Industry\")\n",
    "    \n",
    "    \n",
    "def customer_stage_to_main(spark: SparkSession, replace: bool):\n",
    "    \n",
    "    df = spark.sql(\"select * from stg.stg_Customer\")\n",
    "    df = process_customer(spark, df)\n",
    "    create_iceberg_table(spark, \"prd\", \"Customer\", \"CustomerId string, CompanyName string, SpecializedIndustries string\", replace=replace)\n",
    "    append_to_iceberg_table(spark, df, \"prd\", \"Customer\")"
   ]
  },
  {
   "cell_type": "markdown",
   "id": "fed9bd69",
   "metadata": {},
   "source": [
    "### Assignment Run"
   ]
  },
  {
   "cell_type": "code",
   "execution_count": 10,
   "id": "ae6e30b3",
   "metadata": {},
   "outputs": [
    {
     "name": "stdout",
     "output_type": "stream",
     "text": [
      "22/10/28 14:32:16 WARN MetricsConfig: Cannot locate configuration: tried hadoop-metrics2-s3a-file-system.properties,hadoop-metrics2.properties\n",
      "Database stg created.\n",
      "Database prd created.\n",
      "Table stg_Product created.\n",
      "Table stg_StreamOrders created.\n",
      "Table stg_Customer created.\n",
      "Table stg_Industry created.\n"
     ]
    }
   ],
   "source": [
    "create_db(spark)\n",
    "create_tables(spark)"
   ]
  },
  {
   "cell_type": "code",
   "execution_count": 11,
   "id": "0ea68da3",
   "metadata": {},
   "outputs": [
    {
     "name": "stderr",
     "output_type": "stream",
     "text": [
      "                                                                                \r"
     ]
    },
    {
     "name": "stdout",
     "output_type": "stream",
     "text": [
      "Data appended to table stg_Product.\n"
     ]
    },
    {
     "name": "stderr",
     "output_type": "stream",
     "text": [
      "                                                                                \r"
     ]
    },
    {
     "name": "stdout",
     "output_type": "stream",
     "text": [
      "Data appended to table stg_StreamOrders.\n",
      "Data appended to table stg_Customer.\n",
      "Data appended to table stg_Industry.\n"
     ]
    },
    {
     "name": "stderr",
     "output_type": "stream",
     "text": [
      "WARNING:kafka.coordinator:Heartbeat poll expired, leaving group\n"
     ]
    }
   ],
   "source": [
    "insert_into_product_staging(spark)\n",
    "insert_into_order_staging(spark)\n",
    "insert_into_customer_staging(spark)\n",
    "insert_into_industry_staging(spark)"
   ]
  },
  {
   "cell_type": "code",
   "execution_count": null,
   "id": "56081b5c",
   "metadata": {},
   "outputs": [],
   "source": []
  }
 ],
 "metadata": {
  "kernelspec": {
   "display_name": "Python 3 (ipykernel)",
   "language": "python",
   "name": "python3"
  },
  "language_info": {
   "codemirror_mode": {
    "name": "ipython",
    "version": 3
   },
   "file_extension": ".py",
   "mimetype": "text/x-python",
   "name": "python",
   "nbconvert_exporter": "python",
   "pygments_lexer": "ipython3",
   "version": "3.9.13"
  }
 },
 "nbformat": 4,
 "nbformat_minor": 5
}
